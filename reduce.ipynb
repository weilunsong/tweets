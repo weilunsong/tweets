{
 "cells": [
  {
   "cell_type": "code",
   "execution_count": 2,
   "metadata": {
    "collapsed": true
   },
   "outputs": [],
   "source": [
    "#!/usr/bin/env python\n",
    "\n",
    "from operator import itemgetter\n",
    "import sys\n",
    "\n",
    "word2count = {}\n",
    "for line in sys.stdin:\n",
    "    line = line.strip()\n",
    "    word, count = line.split('\\t', 1)\n",
    "\n",
    "    try:\n",
    "        count = int(count)\n",
    "        word2count[word] = word2count.get(word, 0) + count\n",
    "    except ValueError:\n",
    "\n",
    "        pass\n",
    "    \n",
    "sorted_word2count = sorted(word2count.items(), key=itemgetter(0))\n",
    "\n",
    "for word, count in sorted_word2count:\n",
    "    print('%s\\t%s'% (word, count))\n"
   ]
  }
 ],
 "metadata": {
  "kernelspec": {
   "display_name": "Python 3",
   "language": "python",
   "name": "python3"
  },
  "language_info": {
   "codemirror_mode": {
    "name": "ipython",
    "version": 3
   },
   "file_extension": ".py",
   "mimetype": "text/x-python",
   "name": "python",
   "nbconvert_exporter": "python",
   "pygments_lexer": "ipython3",
   "version": "3.7.3"
  }
 },
 "nbformat": 4,
 "nbformat_minor": 2
}
