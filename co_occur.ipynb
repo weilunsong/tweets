{
 "cells": [
  {
   "cell_type": "code",
   "execution_count": null,
   "metadata": {
    "collapsed": true
   },
   "outputs": [],
   "source": [
    "import nltk\n",
    "from nltk.collocations import *\n",
    "newstokens = coNewstxt.split()\n",
    "bigram_measures = nltk.collocations.BigramAssocMeasures()\n",
    "newsfinder = BigramCollocationFinder.from_words(newstokens)\n",
    "newsscore = newsfinder.score_ngrams(bigram_measures.raw_freq)\n",
    "for bscorenews in newsscore[:10]:\n",
    "    print(bscorenews)\n",
    "    \n",
    "tweettokens = coTweettxt.split()\n",
    "bigram_measures2 = nltk.collocations.BigramAssocMeasures()\n",
    "tweetfinder = BigramCollocationFinder.from_words(tweettokens)\n",
    "tweetscore = tweetfinder.score_ngrams(bigram_measures2.raw_freq)\n",
    "for bscoretweet in tweetscore[:10]:\n",
    "    print(bscoretweet)"
   ]
  }
 ],
 "metadata": {
  "kernelspec": {
   "display_name": "Python 3",
   "language": "python",
   "name": "python3"
  },
  "language_info": {
   "codemirror_mode": {
    "name": "ipython",
    "version": 3
   },
   "file_extension": ".py",
   "mimetype": "text/x-python",
   "name": "python",
   "nbconvert_exporter": "python",
   "pygments_lexer": "ipython3",
   "version": "3.7.3"
  }
 },
 "nbformat": 4,
 "nbformat_minor": 2
}
